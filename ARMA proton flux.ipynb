{
 "cells": [
  {
   "cell_type": "code",
   "execution_count": 1,
   "metadata": {},
   "outputs": [],
   "source": [
    "\n",
    "import numpy as np\n",
    "from pandas import read_csv\n",
    "import matplotlib.pyplot as plt\n",
    "from statsmodels.graphics.tsaplots import plot_acf, plot_pacf\n",
    "from statsmodels.tsa.arima_model import ARMA, ARIMA\n",
    "import sys\n",
    "import time\n",
    "\n",
    "np.random.seed(123)  # for reproducibility\n"
   ]
  },
  {
   "cell_type": "code",
   "execution_count": 2,
   "metadata": {},
   "outputs": [],
   "source": [
    "def make_ARMA_Prediction(Pred_count, AR_order, MA_order, Training_data_length=-1):\n",
    "    start_time = time.time()\n",
    "    \n",
    "    Pred_count = Pred_count\n",
    "    AR_order = AR_order\n",
    "    MA_order = MA_order\n",
    "    Training_data_length = Training_data_length\n",
    "    \n",
    "    print( \"Prediction length : \", Pred_count )\n",
    "    print( \"Autoregressive order : \",  AR_order )\n",
    "    print( \"Moving Average order : \", MA_order )\n",
    "    print( \"Traing data length : \", Training_data_length)\n",
    "    \n",
    "    root = 'C:\\\\Users\\\\YKW\\\\GoogleDrive\\\\Study USB BackUp\\\\SEP\\\\GOES_LSTM_csv\\\\'\n",
    "    groundfile = 'GOES15_pgt10_1hPEAK_log_interpolated.csv'\n",
    "    groundfile_loc = root + groundfile\n",
    "\n",
    "    root_lstm = root + 'ForGraphs\\\\'\n",
    "    \n",
    "    All_Data = read_csv(groundfile_loc, sep=',')\n",
    "    proton_flux = All_Data['b0'].values\n",
    "    \n",
    "    l_ground = 52608\n",
    "    \n",
    "    Training_data = proton_flux[0:l_ground]\n",
    "    Training_data = np.array(Training_data)\n",
    "    \n",
    "    Test_data = proton_flux[l_ground:-24]\n",
    "    Test_data = np.array(Test_data)\n",
    "\n",
    "    \n",
    "    Training_data_mean = Training_data.mean(axis=0)\n",
    "    Sub_mean_Training_data = Training_data - Training_data_mean    \n",
    "    \n",
    "    l_data = proton_flux.size\n",
    "    \n",
    "    Prediction_array = [np.zeros(Pred_count)]\n",
    "    Err_array = [np.zeros(Pred_count)]\n",
    "    \n",
    "    for i in range (l_data - Pred_count - l_ground + 1):\n",
    "        model = ARMA(Sub_mean_Training_data, order=(AR_order, MA_order))\n",
    "        model_fit = model.fit()\n",
    "\n",
    "        fore = model_fit.forecast(steps=24)\n",
    "        Prediction = fore[0] + Training_data_mean\n",
    "        #Prediction = np.array(Prediction)\n",
    "        Prediction_array = np.append(Prediction_array,[Prediction], axis=0)\n",
    "        \n",
    "        Err = abs(Test_data[0+i:24+i]-Prediction)\n",
    "        Err_array = np.append(Err_array,[Err], axis=0)\n",
    "        \n",
    "        added_element =  Test_data[i]       \n",
    "        Sub_mean_Training_data = np.append(Sub_mean_Training_data,added_element)\n",
    "        \n",
    "    \n",
    "    Prediction_array = np.delete(Prediction_array,0,0)\n",
    "    Err_array = np.delete(Err_array,0,0)\n",
    "    \n",
    "    print(\"--- %s seconds ---\" %(time.time() - start_time))\n",
    "    \n",
    "    return Prediction_array, Err_array"
   ]
  },
  {
   "cell_type": "code",
   "execution_count": null,
   "metadata": {},
   "outputs": [
    {
     "name": "stdout",
     "output_type": "stream",
     "text": [
      "Prediction length :  24\n",
      "Autoregressive order :  1\n",
      "Moving Average order :  1\n",
      "Traing data length :  -1\n"
     ]
    },
    {
     "name": "stderr",
     "output_type": "stream",
     "text": [
      "C:\\ProgramData\\Anaconda3\\envs\\venv\\lib\\site-packages\\statsmodels\\base\\model.py:508: ConvergenceWarning: Maximum Likelihood optimization failed to converge. Check mle_retvals\n",
      "  \"Check mle_retvals\", ConvergenceWarning)\n",
      "C:\\ProgramData\\Anaconda3\\envs\\venv\\lib\\site-packages\\statsmodels\\base\\model.py:508: ConvergenceWarning: Maximum Likelihood optimization failed to converge. Check mle_retvals\n",
      "  \"Check mle_retvals\", ConvergenceWarning)\n",
      "C:\\ProgramData\\Anaconda3\\envs\\venv\\lib\\site-packages\\statsmodels\\base\\model.py:508: ConvergenceWarning: Maximum Likelihood optimization failed to converge. Check mle_retvals\n",
      "  \"Check mle_retvals\", ConvergenceWarning)\n"
     ]
    }
   ],
   "source": [
    "ARMA_1_1_Pre, ARMA_1_1_ERR = make_ARMA_Prediction(24,1,1)"
   ]
  },
  {
   "cell_type": "code",
   "execution_count": null,
   "metadata": {},
   "outputs": [],
   "source": [
    "ARMA_2_2_Pre, ARMA_2_2_ERR = make_ARMA_Prediction(24,2,2)"
   ]
  },
  {
   "cell_type": "code",
   "execution_count": null,
   "metadata": {},
   "outputs": [],
   "source": [
    "ARMA_3_1_Pre, ARMA_3_1_ERR = make_ARMA_Prediction(24,3,1)"
   ]
  },
  {
   "cell_type": "code",
   "execution_count": null,
   "metadata": {},
   "outputs": [],
   "source": [
    "ARMA_3_2_Pre, ARMA_3_2_ERR = make_ARMA_Prediction(24,3,2)"
   ]
  },
  {
   "cell_type": "code",
   "execution_count": null,
   "metadata": {},
   "outputs": [],
   "source": [
    "ARMA_6_1_Pre, ARMA_6_1_ERR = make_ARMA_Prediction(24,6,1)"
   ]
  },
  {
   "cell_type": "code",
   "execution_count": null,
   "metadata": {},
   "outputs": [],
   "source": [
    "ARMA_6_3_Pre, ARMA_6_3_ERR = make_ARMA_Prediction(24,6,3)"
   ]
  },
  {
   "cell_type": "code",
   "execution_count": null,
   "metadata": {},
   "outputs": [],
   "source": [
    "ARMA_17_1_Pre, ARMA_17_1_ERR = make_ARMA_Prediction(24,6,3)"
   ]
  },
  {
   "cell_type": "code",
   "execution_count": null,
   "metadata": {},
   "outputs": [],
   "source": []
  }
 ],
 "metadata": {
  "kernelspec": {
   "display_name": "Python 3",
   "language": "python",
   "name": "python3"
  },
  "language_info": {
   "codemirror_mode": {
    "name": "ipython",
    "version": 3
   },
   "file_extension": ".py",
   "mimetype": "text/x-python",
   "name": "python",
   "nbconvert_exporter": "python",
   "pygments_lexer": "ipython3",
   "version": "3.5.5"
  }
 },
 "nbformat": 4,
 "nbformat_minor": 2
}
